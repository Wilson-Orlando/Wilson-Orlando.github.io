{
 "cells": [
  {
   "cell_type": "code",
   "execution_count": 5,
   "metadata": {},
   "outputs": [
    {
     "name": "stdout",
     "output_type": "stream",
     "text": [
      "Requirement already satisfied: textblob in /opt/conda/lib/python3.7/site-packages (0.15.3)\n",
      "Requirement already satisfied: nltk>=3.1 in /opt/conda/lib/python3.7/site-packages (from textblob) (3.4.5)\n",
      "Requirement already satisfied: six in /opt/conda/lib/python3.7/site-packages (from nltk>=3.1->textblob) (1.12.0)\n",
      "Requirement already satisfied: torch in /opt/conda/lib/python3.7/site-packages (1.3.1)\n",
      "Requirement already satisfied: numpy in /opt/conda/lib/python3.7/site-packages (from torch) (1.17.0)\n",
      "Requirement already satisfied: praw in /opt/conda/lib/python3.7/site-packages (6.4.0)\n",
      "Requirement already satisfied: update-checker>=0.16 in /opt/conda/lib/python3.7/site-packages (from praw) (0.16)\n",
      "Requirement already satisfied: prawcore<2.0,>=1.0.1 in /opt/conda/lib/python3.7/site-packages (from praw) (1.0.1)\n",
      "Requirement already satisfied: websocket-client>=0.54.0 in /opt/conda/lib/python3.7/site-packages (from praw) (0.56.0)\n",
      "Requirement already satisfied: requests>=2.3.0 in /opt/conda/lib/python3.7/site-packages (from update-checker>=0.16->praw) (2.22.0)\n",
      "Requirement already satisfied: six in /opt/conda/lib/python3.7/site-packages (from websocket-client>=0.54.0->praw) (1.12.0)\n",
      "Requirement already satisfied: urllib3!=1.25.0,!=1.25.1,<1.26,>=1.21.1 in /opt/conda/lib/python3.7/site-packages (from requests>=2.3.0->update-checker>=0.16->praw) (1.25.3)\n",
      "Requirement already satisfied: certifi>=2017.4.17 in /opt/conda/lib/python3.7/site-packages (from requests>=2.3.0->update-checker>=0.16->praw) (2019.6.16)\n",
      "Requirement already satisfied: chardet<3.1.0,>=3.0.2 in /opt/conda/lib/python3.7/site-packages (from requests>=2.3.0->update-checker>=0.16->praw) (3.0.4)\n",
      "Requirement already satisfied: idna<2.9,>=2.5 in /opt/conda/lib/python3.7/site-packages (from requests>=2.3.0->update-checker>=0.16->praw) (2.8)\n"
     ]
    }
   ],
   "source": [
    "!pip install textblob\n",
    "!pip install torch\n",
    "!pip install praw\n",
    "from textblob import TextBlob\n",
    "import torch\n",
    "import torch.nn as nn\n",
    "import torch.optim as optim\n",
    "import pandas as pd\n",
    "import matplotlib.pyplot as plt\n",
    "import seaborn as sns\n",
    "from sklearn.linear_model import Lasso, LogisticRegression\n",
    "import sklearn.metrics as metrics\n",
    "from sklearn.model_selection import train_test_split\n",
    "from tqdm import tqdm\n",
    "import numpy as np\n",
    "import praw\n",
    "import pdb\n",
    "import warnings\n",
    "warnings.filterwarnings(\"ignore\")"
   ]
  },
  {
   "cell_type": "code",
   "execution_count": 17,
   "metadata": {},
   "outputs": [],
   "source": [
    "clientID = 'VpVEXRwC5-nrbA'\n",
    "clientSecret = 'XMql3JHOqhq2NatetFMFPkhBaCE'\n",
    "userAgent = 'Reddit WebScraping'\n",
    "reddit = praw.Reddit(client_id=clientID, client_secret=clientSecret, user_agent=userAgent)"
   ]
  },
  {
   "cell_type": "code",
   "execution_count": null,
   "metadata": {},
   "outputs": [],
   "source": [
    "# Retrieve the top (most upvoted) 1k posts in the last year and add them to a Pandas dataframe\n",
    "topPosts = []\n",
    "subReddit = reddit.subreddit('all')\n",
    "for post in tqdm(subReddit.top(time_filter = 'year', limit=1000), total=1000):\n",
    "    topPosts.append([post.title, post.score, post.id, post.subreddit, post.url, post.num_comments, post.selftext, post.created_utc, post.author, post.is_self, post.over_18, post.spoiler, post.upvote_ratio])\n",
    "    \n",
    "topPosts = pd.DataFrame(topPosts,columns=['title', 'score', 'id', 'subreddit', 'url', 'num_comments', 'body', 'created', 'author', 'is_self', 'over_18', 'spoiler', 'upvote_ratio'])\n",
    "topPosts.to_csv(\"top1KPosts.csv\", index=False)"
   ]
  },
  {
   "cell_type": "code",
   "execution_count": null,
   "metadata": {},
   "outputs": [],
   "source": [
    "# Retrieve the most controversial (most downvoted) 1k posts in the last year and add them to a Pandas dataframe\n",
    "controvertialPosts = []\n",
    "subReddit = reddit.subreddit('all')\n",
    "for post in tqdm(subReddit.controversial(time_filter = 'year', limit=1000), total=1000):\n",
    "    controvertialPosts.append([post.title, post.score, post.id, post.subreddit, post.url, post.num_comments, post.selftext, post.created_utc, post.author, post.is_self, post.over_18, post.spoiler, post.upvote_ratio])\n",
    "controvertialPosts = pd.DataFrame(controvertialPosts,columns=['title', 'score', 'id', 'subreddit', 'url', 'num_comments', 'body', 'created', 'author', 'is_self', 'over_18', 'spoiler', 'upvote_ratio'])\n",
    "controvertialPosts.to_csv(\"controvertial1KPosts.csv\", index=False)"
   ]
  },
  {
   "cell_type": "code",
   "execution_count": 6,
   "metadata": {},
   "outputs": [],
   "source": [
    "top1KPosts = pd.read_csv(\"top1kPosts.csv\")\n",
    "controversial1KPosts = pd.read_csv(\"controversial1kPosts.csv\")"
   ]
  },
  {
   "cell_type": "markdown",
   "metadata": {},
   "source": [
    "To avoid calling the Reddit API thousands of times, we have saved the results of 1k \"Top\" posts and 1k \"Controversial\" posts to a data frame. For all future analysis, we will be reading and modifying these data frames. "
   ]
  },
  {
   "cell_type": "code",
   "execution_count": 7,
   "metadata": {},
   "outputs": [
    {
     "data": {
      "text/plain": [
       "array(['pics', 'gaming', 'AskReddit', 'Showerthoughts', 'news', 'memes',\n",
       "       'funny', 'YouFellForItFool', 'aww', 'videos'], dtype=object)"
      ]
     },
     "execution_count": 7,
     "metadata": {},
     "output_type": "execute_result"
    }
   ],
   "source": [
    "topSubReddit = top1KPosts.subreddit.unique() # List of subreddits that have broken top 10k\n",
    "topSubReddit[0:10]"
   ]
  },
  {
   "cell_type": "code",
   "execution_count": 8,
   "metadata": {
    "scrolled": false
   },
   "outputs": [
    {
     "data": {
      "text/plain": [
       "array(['motorcycles', 'unpopularopinion', 'IAmA', 'AmItheAsshole',\n",
       "       'TheMonkeysPaw', 'TrueOffMyChest', 'gadgets', 'leagueoflegends',\n",
       "       'DestinyTheGame', 'FortNiteBR'], dtype=object)"
      ]
     },
     "execution_count": 8,
     "metadata": {},
     "output_type": "execute_result"
    }
   ],
   "source": [
    "controversialSubReddits = controversial1KPosts.subreddit.unique() # List of subreddits that have broken most controversial 10k\n",
    "controversialSubReddits[0:10]"
   ]
  },
  {
   "cell_type": "code",
   "execution_count": 9,
   "metadata": {},
   "outputs": [
    {
     "data": {
      "text/html": [
       "<div>\n",
       "<style scoped>\n",
       "    .dataframe tbody tr th:only-of-type {\n",
       "        vertical-align: middle;\n",
       "    }\n",
       "\n",
       "    .dataframe tbody tr th {\n",
       "        vertical-align: top;\n",
       "    }\n",
       "\n",
       "    .dataframe thead th {\n",
       "        text-align: right;\n",
       "    }\n",
       "</style>\n",
       "<table border=\"1\" class=\"dataframe\">\n",
       "  <thead>\n",
       "    <tr style=\"text-align: right;\">\n",
       "      <th></th>\n",
       "      <th>title</th>\n",
       "      <th>score</th>\n",
       "      <th>subreddit</th>\n",
       "      <th>num_comments</th>\n",
       "      <th>body</th>\n",
       "      <th>is_self</th>\n",
       "      <th>over_18</th>\n",
       "      <th>spoiler</th>\n",
       "      <th>upvote_ratio</th>\n",
       "      <th>post_type</th>\n",
       "    </tr>\n",
       "  </thead>\n",
       "  <tbody>\n",
       "    <tr>\n",
       "      <th>0</th>\n",
       "      <td>Given that reddit just took a $150 million inv...</td>\n",
       "      <td>228918</td>\n",
       "      <td>pics</td>\n",
       "      <td>6491</td>\n",
       "      <td>NaN</td>\n",
       "      <td>False</td>\n",
       "      <td>False</td>\n",
       "      <td>False</td>\n",
       "      <td>0.94</td>\n",
       "      <td>1.0</td>\n",
       "    </tr>\n",
       "    <tr>\n",
       "      <th>1</th>\n",
       "      <td>I got off the horse by accident right before a...</td>\n",
       "      <td>226498</td>\n",
       "      <td>gaming</td>\n",
       "      <td>2238</td>\n",
       "      <td>NaN</td>\n",
       "      <td>False</td>\n",
       "      <td>False</td>\n",
       "      <td>False</td>\n",
       "      <td>0.97</td>\n",
       "      <td>1.0</td>\n",
       "    </tr>\n",
       "    <tr>\n",
       "      <th>2</th>\n",
       "      <td>Take your time, you got this</td>\n",
       "      <td>224055</td>\n",
       "      <td>gaming</td>\n",
       "      <td>3360</td>\n",
       "      <td>NaN</td>\n",
       "      <td>False</td>\n",
       "      <td>False</td>\n",
       "      <td>False</td>\n",
       "      <td>0.97</td>\n",
       "      <td>1.0</td>\n",
       "    </tr>\n",
       "    <tr>\n",
       "      <th>3</th>\n",
       "      <td>People who haven't pooped in 2019 yet, why are...</td>\n",
       "      <td>221862</td>\n",
       "      <td>AskReddit</td>\n",
       "      <td>8132</td>\n",
       "      <td>NaN</td>\n",
       "      <td>True</td>\n",
       "      <td>False</td>\n",
       "      <td>False</td>\n",
       "      <td>0.91</td>\n",
       "      <td>1.0</td>\n",
       "    </tr>\n",
       "    <tr>\n",
       "      <th>4</th>\n",
       "      <td>Whoever created the tradition of not seeing th...</td>\n",
       "      <td>218614</td>\n",
       "      <td>Showerthoughts</td>\n",
       "      <td>2098</td>\n",
       "      <td>Damn... this got big...</td>\n",
       "      <td>True</td>\n",
       "      <td>False</td>\n",
       "      <td>False</td>\n",
       "      <td>0.96</td>\n",
       "      <td>1.0</td>\n",
       "    </tr>\n",
       "  </tbody>\n",
       "</table>\n",
       "</div>"
      ],
      "text/plain": [
       "                                               title   score       subreddit  \\\n",
       "0  Given that reddit just took a $150 million inv...  228918            pics   \n",
       "1  I got off the horse by accident right before a...  226498          gaming   \n",
       "2                       Take your time, you got this  224055          gaming   \n",
       "3  People who haven't pooped in 2019 yet, why are...  221862       AskReddit   \n",
       "4  Whoever created the tradition of not seeing th...  218614  Showerthoughts   \n",
       "\n",
       "   num_comments                     body  is_self  over_18  spoiler  \\\n",
       "0          6491                      NaN    False    False    False   \n",
       "1          2238                      NaN    False    False    False   \n",
       "2          3360                      NaN    False    False    False   \n",
       "3          8132                      NaN     True    False    False   \n",
       "4          2098  Damn... this got big...     True    False    False   \n",
       "\n",
       "   upvote_ratio  post_type  \n",
       "0          0.94        1.0  \n",
       "1          0.97        1.0  \n",
       "2          0.97        1.0  \n",
       "3          0.91        1.0  \n",
       "4          0.96        1.0  "
      ]
     },
     "execution_count": 9,
     "metadata": {},
     "output_type": "execute_result"
    }
   ],
   "source": [
    "for tableRow in top1KPosts.iterrows():\n",
    "     top1KPosts.at[tableRow[0], \"post_type\"] = 1 #Set topPost as post_type 1\n",
    "\n",
    "for tableRow in controversial1KPosts.iterrows():\n",
    "    controversial1KPosts.at[tableRow[0], \"post_type\"] = 0 #Set controversialPost as post_type 0\n",
    "\n",
    "dataSet = pd.concat([top1KPosts, controversial1KPosts])\n",
    "dataSet = dataSet.reset_index()\n",
    "dataSet = dataSet.drop([\"index\", \"id\", \"url\", \"created\", \"author\"], axis=1) #Drop Features that cannot be controlled by the user\n",
    "dataSet.head()"
   ]
  },
  {
   "cell_type": "markdown",
   "metadata": {},
   "source": [
    "We start by merging the top posts and controversial posts together into a single dataframe. We will conduct all future analysis on this master dataset. We still need to perform some data cleaning to make these features useable in machine learning models. We intentionally drop all features that the user cannot control such as the post ID, url, author, and number of comments, post type or upvote ratio."
   ]
  },
  {
   "cell_type": "code",
   "execution_count": 10,
   "metadata": {},
   "outputs": [
    {
     "data": {
      "text/html": [
       "<div>\n",
       "<style scoped>\n",
       "    .dataframe tbody tr th:only-of-type {\n",
       "        vertical-align: middle;\n",
       "    }\n",
       "\n",
       "    .dataframe tbody tr th {\n",
       "        vertical-align: top;\n",
       "    }\n",
       "\n",
       "    .dataframe thead th {\n",
       "        text-align: right;\n",
       "    }\n",
       "</style>\n",
       "<table border=\"1\" class=\"dataframe\">\n",
       "  <thead>\n",
       "    <tr style=\"text-align: right;\">\n",
       "      <th></th>\n",
       "      <th>title</th>\n",
       "      <th>score</th>\n",
       "      <th>subreddit</th>\n",
       "      <th>num_comments</th>\n",
       "      <th>body</th>\n",
       "      <th>upvote_ratio</th>\n",
       "      <th>post_type</th>\n",
       "      <th>len_title</th>\n",
       "      <th>title_sentiment</th>\n",
       "      <th>title_subjectivity</th>\n",
       "      <th>len_body</th>\n",
       "      <th>is_oc</th>\n",
       "      <th>is_nsfw</th>\n",
       "      <th>is_spoiler</th>\n",
       "    </tr>\n",
       "  </thead>\n",
       "  <tbody>\n",
       "    <tr>\n",
       "      <th>0</th>\n",
       "      <td>Given that reddit just took a $150 million inv...</td>\n",
       "      <td>228918</td>\n",
       "      <td>pics</td>\n",
       "      <td>6491</td>\n",
       "      <td></td>\n",
       "      <td>0.94</td>\n",
       "      <td>1.0</td>\n",
       "      <td>241.0</td>\n",
       "      <td>0.245455</td>\n",
       "      <td>0.484848</td>\n",
       "      <td>0.0</td>\n",
       "      <td>0.0</td>\n",
       "      <td>0.0</td>\n",
       "      <td>0.0</td>\n",
       "    </tr>\n",
       "    <tr>\n",
       "      <th>1</th>\n",
       "      <td>I got off the horse by accident right before a...</td>\n",
       "      <td>226498</td>\n",
       "      <td>gaming</td>\n",
       "      <td>2238</td>\n",
       "      <td></td>\n",
       "      <td>0.97</td>\n",
       "      <td>1.0</td>\n",
       "      <td>67.0</td>\n",
       "      <td>0.028571</td>\n",
       "      <td>0.311905</td>\n",
       "      <td>0.0</td>\n",
       "      <td>0.0</td>\n",
       "      <td>0.0</td>\n",
       "      <td>0.0</td>\n",
       "    </tr>\n",
       "    <tr>\n",
       "      <th>2</th>\n",
       "      <td>Take your time, you got this</td>\n",
       "      <td>224055</td>\n",
       "      <td>gaming</td>\n",
       "      <td>3360</td>\n",
       "      <td></td>\n",
       "      <td>0.97</td>\n",
       "      <td>1.0</td>\n",
       "      <td>28.0</td>\n",
       "      <td>0.000000</td>\n",
       "      <td>0.000000</td>\n",
       "      <td>0.0</td>\n",
       "      <td>0.0</td>\n",
       "      <td>0.0</td>\n",
       "      <td>0.0</td>\n",
       "    </tr>\n",
       "    <tr>\n",
       "      <th>3</th>\n",
       "      <td>People who haven't pooped in 2019 yet, why are...</td>\n",
       "      <td>221862</td>\n",
       "      <td>AskReddit</td>\n",
       "      <td>8132</td>\n",
       "      <td></td>\n",
       "      <td>0.91</td>\n",
       "      <td>1.0</td>\n",
       "      <td>87.0</td>\n",
       "      <td>-0.100000</td>\n",
       "      <td>0.433333</td>\n",
       "      <td>0.0</td>\n",
       "      <td>1.0</td>\n",
       "      <td>0.0</td>\n",
       "      <td>0.0</td>\n",
       "    </tr>\n",
       "    <tr>\n",
       "      <th>4</th>\n",
       "      <td>Whoever created the tradition of not seeing th...</td>\n",
       "      <td>218614</td>\n",
       "      <td>Showerthoughts</td>\n",
       "      <td>2098</td>\n",
       "      <td>Damn... this got big...</td>\n",
       "      <td>0.96</td>\n",
       "      <td>1.0</td>\n",
       "      <td>189.0</td>\n",
       "      <td>0.000000</td>\n",
       "      <td>0.500000</td>\n",
       "      <td>23.0</td>\n",
       "      <td>1.0</td>\n",
       "      <td>0.0</td>\n",
       "      <td>0.0</td>\n",
       "    </tr>\n",
       "  </tbody>\n",
       "</table>\n",
       "</div>"
      ],
      "text/plain": [
       "                                               title   score       subreddit  \\\n",
       "0  Given that reddit just took a $150 million inv...  228918            pics   \n",
       "1  I got off the horse by accident right before a...  226498          gaming   \n",
       "2                       Take your time, you got this  224055          gaming   \n",
       "3  People who haven't pooped in 2019 yet, why are...  221862       AskReddit   \n",
       "4  Whoever created the tradition of not seeing th...  218614  Showerthoughts   \n",
       "\n",
       "   num_comments                     body  upvote_ratio  post_type  len_title  \\\n",
       "0          6491                                   0.94        1.0      241.0   \n",
       "1          2238                                   0.97        1.0       67.0   \n",
       "2          3360                                   0.97        1.0       28.0   \n",
       "3          8132                                   0.91        1.0       87.0   \n",
       "4          2098  Damn... this got big...          0.96        1.0      189.0   \n",
       "\n",
       "   title_sentiment  title_subjectivity  len_body  is_oc  is_nsfw  is_spoiler  \n",
       "0         0.245455            0.484848       0.0    0.0      0.0         0.0  \n",
       "1         0.028571            0.311905       0.0    0.0      0.0         0.0  \n",
       "2         0.000000            0.000000       0.0    0.0      0.0         0.0  \n",
       "3        -0.100000            0.433333       0.0    1.0      0.0         0.0  \n",
       "4         0.000000            0.500000      23.0    1.0      0.0         0.0  "
      ]
     },
     "execution_count": 10,
     "metadata": {},
     "output_type": "execute_result"
    }
   ],
   "source": [
    "uniqueSubReddits = {\"subReddit\" : []} #Get unique subReddits.\n",
    "\n",
    "for tableRow in dataSet.iterrows(): #Iterate through all rows in data set.\n",
    "    title = tableRow[1][\"title\"]\n",
    "    subReddit = tableRow[1][\"subreddit\"]\n",
    "    body = tableRow[1][\"body\"]\n",
    "\n",
    "    originalContent = tableRow[1][\"is_self\"]\n",
    "    nsfw = tableRow[1][\"over_18\"]\n",
    "    spoiler = tableRow[1][\"spoiler\"]\n",
    "\n",
    "    titleBlob = TextBlob(title)\n",
    "\n",
    "    lenTitle = len(title)\n",
    "    titleSentiment = titleBlob.sentiment.polarity #Senitment score from [-1, 1]\n",
    "    titleSubjectivity = titleBlob.sentiment.subjectivity #Opinion score from [0, 1]\n",
    "\n",
    "    if subReddit not in uniqueSubReddits[\"subReddit\"]:\n",
    "        uniqueSubReddits[\"subReddit\"].append(subReddit)\n",
    "\n",
    "    lenBody = 0\n",
    "    try:\n",
    "        if np.isnan(body): #Setting empty body elements to empty strings to homogenize the data type within the column\n",
    "            body = \"\"\n",
    "            lenBody = 0\n",
    "    except:\n",
    "        lenBody = len(body)\n",
    "\n",
    "    #Set cleaned values and additional features\n",
    "    dataSet.at[tableRow[0], \"len_title\"] = lenTitle\n",
    "    dataSet.at[tableRow[0], \"title_sentiment\"] = titleSentiment\n",
    "    dataSet.at[tableRow[0], \"title_subjectivity\"] = titleSubjectivity\n",
    "    dataSet.at[tableRow[0], \"body\"] = body\n",
    "    dataSet.at[tableRow[0], \"len_body\"] = lenBody\n",
    "    \n",
    "    #Convert True -> 1 and False -> 0\n",
    "    dataSet.at[tableRow[0], \"is_oc\"] = 0\n",
    "    if originalContent:\n",
    "        dataSet.at[tableRow[0], \"is_oc\"] = 1\n",
    "\n",
    "\n",
    "    dataSet.at[tableRow[0], \"is_nsfw\"] = 0\n",
    "    if nsfw:\n",
    "        dataSet.at[tableRow[0], \"is_nsfw\"] = 1\n",
    "\n",
    "    dataSet.at[tableRow[0], \"is_spoiler\"] = 0\n",
    "    if spoiler:\n",
    "        dataSet.at[tableRow[0], \"is_spoiler\"] = 1\n",
    "\n",
    "dataSet = dataSet.drop([\"is_self\", \"over_18\", \"spoiler\",], axis=1)\n",
    "subRedditLookUp = pd.DataFrame(uniqueSubReddits) #Create table to iterate through all sub-reddits\n",
    "subRedditOneHotEncoding = pd.get_dummies(subRedditLookUp) #One hot encoding for categorical feature for input into model\n",
    "dataSet.head()"
   ]
  },
  {
   "cell_type": "markdown",
   "metadata": {},
   "source": [
    "The Reddit API makes data cleaning fairly straightforward. There are very few missing values, and all elements in the table are uniformly formatted, making it easier to specify rules to clean them. In addition to the features we are given through the API, we decided to calcualte a few other metrics that might be useful in determining the quality of a post. Specifically, we also look at the sentiment of the tilte, the objectivity of the title, length of the title, and length of the body. For the sake of simplicity, we do not consider the raw text data in a post to avoid dealing with links, subreddit specific acronyms and internet slang in general. Using these hand-crafted features, we will attempt to both regress the upvote ratio, and classify whether a post is considered a top post or a controvertial post. Note that we choose to regress the upvote ratio rather than the total score because the score contains a very large range of values, making it difficult to accurately regress the values. "
   ]
  },
  {
   "cell_type": "code",
   "execution_count": 11,
   "metadata": {},
   "outputs": [],
   "source": [
    "inputRegressionData = []\n",
    "outputRegressionData = []\n",
    "\n",
    "#Creating examples with all features and the corresponding label\n",
    "for tableRow in dataSet.iterrows():\n",
    "    subReddit = tableRow[1][\"subreddit\"]\n",
    "    SR_oneHotEncoding = subRedditOneHotEncoding[\"subReddit_\" + subReddit].to_list()\n",
    "    originalContent = tableRow[1][\"is_oc\"]\n",
    "    nsfw = tableRow[1][\"is_nsfw\"]\n",
    "    spoiler = tableRow[1][\"is_spoiler\"]\n",
    "    lenTitle = tableRow[1][\"len_title\"]\n",
    "    titleSentiment = tableRow[1][\"title_sentiment\"]\n",
    "    titleSubjectivity = tableRow[1][\"title_subjectivity\"]\n",
    "    lenBody = tableRow[1][\"len_body\"]\n",
    "    ratio = tableRow[1][\"upvote_ratio\"]\n",
    "\n",
    "    inputRegressionData.append(SR_oneHotEncoding + [lenTitle, titleSentiment, titleSubjectivity, lenBody, originalContent, nsfw, spoiler])\n",
    "    outputRegressionData.append([ratio])"
   ]
  },
  {
   "cell_type": "code",
   "execution_count": 12,
   "metadata": {},
   "outputs": [
    {
     "data": {
      "text/html": [
       "<div>\n",
       "<style scoped>\n",
       "    .dataframe tbody tr th:only-of-type {\n",
       "        vertical-align: middle;\n",
       "    }\n",
       "\n",
       "    .dataframe tbody tr th {\n",
       "        vertical-align: top;\n",
       "    }\n",
       "\n",
       "    .dataframe thead th {\n",
       "        text-align: right;\n",
       "    }\n",
       "</style>\n",
       "<table border=\"1\" class=\"dataframe\">\n",
       "  <thead>\n",
       "    <tr style=\"text-align: right;\">\n",
       "      <th></th>\n",
       "      <th>Example</th>\n",
       "      <th>True Ratio</th>\n",
       "      <th>Predicted Ratio</th>\n",
       "      <th>Residual</th>\n",
       "    </tr>\n",
       "  </thead>\n",
       "  <tbody>\n",
       "    <tr>\n",
       "      <th>0</th>\n",
       "      <td>0</td>\n",
       "      <td>0.89</td>\n",
       "      <td>0.759555</td>\n",
       "      <td>0.130445</td>\n",
       "    </tr>\n",
       "    <tr>\n",
       "      <th>1</th>\n",
       "      <td>1</td>\n",
       "      <td>0.56</td>\n",
       "      <td>0.323728</td>\n",
       "      <td>0.236272</td>\n",
       "    </tr>\n",
       "    <tr>\n",
       "      <th>2</th>\n",
       "      <td>2</td>\n",
       "      <td>0.89</td>\n",
       "      <td>0.759555</td>\n",
       "      <td>0.130445</td>\n",
       "    </tr>\n",
       "    <tr>\n",
       "      <th>3</th>\n",
       "      <td>3</td>\n",
       "      <td>0.52</td>\n",
       "      <td>0.495439</td>\n",
       "      <td>0.024561</td>\n",
       "    </tr>\n",
       "    <tr>\n",
       "      <th>4</th>\n",
       "      <td>4</td>\n",
       "      <td>0.50</td>\n",
       "      <td>0.714148</td>\n",
       "      <td>-0.214148</td>\n",
       "    </tr>\n",
       "  </tbody>\n",
       "</table>\n",
       "</div>"
      ],
      "text/plain": [
       "   Example  True Ratio  Predicted Ratio  Residual\n",
       "0        0        0.89         0.759555  0.130445\n",
       "1        1        0.56         0.323728  0.236272\n",
       "2        2        0.89         0.759555  0.130445\n",
       "3        3        0.52         0.495439  0.024561\n",
       "4        4        0.50         0.714148 -0.214148"
      ]
     },
     "execution_count": 12,
     "metadata": {},
     "output_type": "execute_result"
    }
   ],
   "source": [
    "trainInput, testInput, trainOutput, testOutput = train_test_split(inputRegressionData, outputRegressionData, test_size=0.1) #Split data\n",
    "ratioRegression = Lasso().fit(np.array(trainInput), np.array(trainOutput)) #Works better with sparse data\n",
    "predictedOutput = ratioRegression.predict(np.array(testInput)) #Test the fitted model against unseen data\n",
    "\n",
    "modelPerformance = []\n",
    "\n",
    "testOutput = [i[0] for i in testOutput]\n",
    "predictedOutput = predictedOutput.tolist()\n",
    "for i, output in enumerate(zip(testOutput, predictedOutput)):\n",
    "    target, prediction = output\n",
    "    modelPerformance.append({\"Example\" : i, \"True Ratio\" : target , \"Predicted Ratio\" : prediction, \"Residual\" : target - prediction})\n",
    "    \n",
    "modelPerformance = pd.DataFrame(modelPerformance)\n",
    "MSE = metrics.mean_squared_error(testOutput, predictedOutput) #How close are the predictions to the actual values?\n",
    "averageResidual = np.mean(modelPerformance[\"Residual\"]) #Gives an idea if the model is consistently under predicting or overpredicting, indicating a poor fit\n",
    "\n",
    "modelPerformance.head()"
   ]
  },
  {
   "cell_type": "code",
   "execution_count": 13,
   "metadata": {},
   "outputs": [
    {
     "name": "stdout",
     "output_type": "stream",
     "text": [
      "Mean Squared Error: 0.040836401383944114\n",
      "Average Residual: -0.011549944679089742\n"
     ]
    }
   ],
   "source": [
    "print(\"Mean Squared Error: \" + str(MSE))\n",
    "print(\"Average Residual: \" + str(averageResidual))"
   ]
  },
  {
   "cell_type": "code",
   "execution_count": null,
   "metadata": {},
   "outputs": [],
   "source": []
  },
  {
   "cell_type": "code",
   "execution_count": 27,
   "metadata": {},
   "outputs": [],
   "source": [
    "inputClassificationData = []\n",
    "outputClassificationData = []\n",
    "\n",
    "for tableRow in dataSet.iterrows():\n",
    "    subReddit = tableRow[1][\"subreddit\"]\n",
    "    SR_oneHotEncoding = subRedditOneHotEncoding[\"subReddit_\" + subReddit].to_list()\n",
    "    originalContent = tableRow[1][\"is_oc\"]\n",
    "    nsfw = tableRow[1][\"is_nsfw\"]\n",
    "    spoiler = tableRow[1][\"is_spoiler\"]\n",
    "    lenTitle = tableRow[1][\"len_title\"]\n",
    "    titleSentiment = tableRow[1][\"title_sentiment\"]\n",
    "    titleSubjectivity = tableRow[1][\"title_subjectivity\"]\n",
    "    lenBody = tableRow[1][\"len_body\"]\n",
    "    post_type = tableRow[1][\"post_type\"]\n",
    "\n",
    "    inputClassificationData.append(SR_oneHotEncoding + [lenTitle, titleSentiment, titleSubjectivity, lenBody, originalContent, nsfw, spoiler])\n",
    "    outputClassificationData.append([post_type])"
   ]
  },
  {
   "cell_type": "code",
   "execution_count": 28,
   "metadata": {},
   "outputs": [
    {
     "data": {
      "text/html": [
       "<div>\n",
       "<style scoped>\n",
       "    .dataframe tbody tr th:only-of-type {\n",
       "        vertical-align: middle;\n",
       "    }\n",
       "\n",
       "    .dataframe tbody tr th {\n",
       "        vertical-align: top;\n",
       "    }\n",
       "\n",
       "    .dataframe thead th {\n",
       "        text-align: right;\n",
       "    }\n",
       "</style>\n",
       "<table border=\"1\" class=\"dataframe\">\n",
       "  <thead>\n",
       "    <tr style=\"text-align: right;\">\n",
       "      <th></th>\n",
       "      <th>Example</th>\n",
       "      <th>True Class</th>\n",
       "      <th>Predicted Class</th>\n",
       "    </tr>\n",
       "  </thead>\n",
       "  <tbody>\n",
       "    <tr>\n",
       "      <th>0</th>\n",
       "      <td>0</td>\n",
       "      <td>1.0</td>\n",
       "      <td>1.0</td>\n",
       "    </tr>\n",
       "    <tr>\n",
       "      <th>1</th>\n",
       "      <td>1</td>\n",
       "      <td>1.0</td>\n",
       "      <td>1.0</td>\n",
       "    </tr>\n",
       "    <tr>\n",
       "      <th>2</th>\n",
       "      <td>2</td>\n",
       "      <td>1.0</td>\n",
       "      <td>1.0</td>\n",
       "    </tr>\n",
       "    <tr>\n",
       "      <th>3</th>\n",
       "      <td>3</td>\n",
       "      <td>0.0</td>\n",
       "      <td>0.0</td>\n",
       "    </tr>\n",
       "    <tr>\n",
       "      <th>4</th>\n",
       "      <td>4</td>\n",
       "      <td>1.0</td>\n",
       "      <td>1.0</td>\n",
       "    </tr>\n",
       "  </tbody>\n",
       "</table>\n",
       "</div>"
      ],
      "text/plain": [
       "   Example  True Class  Predicted Class\n",
       "0        0         1.0              1.0\n",
       "1        1         1.0              1.0\n",
       "2        2         1.0              1.0\n",
       "3        3         0.0              0.0\n",
       "4        4         1.0              1.0"
      ]
     },
     "execution_count": 28,
     "metadata": {},
     "output_type": "execute_result"
    }
   ],
   "source": [
    "trainInput, testInput, trainOutput, testOutput = train_test_split(inputClassificationData, outputClassificationData, test_size=0.1)\n",
    "ratioRegression = LogisticRegression().fit(np.array(trainInput), np.array(trainOutput))\n",
    "predictedOutput = ratioRegression.predict(np.array(testInput))\n",
    "modelPerformance = []\n",
    "\n",
    "testOutput = [i[0] for i in testOutput]\n",
    "predictedOutput = predictedOutput.tolist()\n",
    "\n",
    "for i, output in enumerate(zip(testOutput, predictedOutput)):\n",
    "    target, prediction = output\n",
    "    modelPerformance.append({\"Example\" : i, \"True Class\" : target , \"Predicted Class\" : prediction})\n",
    "    \n",
    "modelPerformance = pd.DataFrame(modelPerformance)\n",
    "modelPerformance.head()"
   ]
  },
  {
   "cell_type": "code",
   "execution_count": 29,
   "metadata": {},
   "outputs": [
    {
     "name": "stdout",
     "output_type": "stream",
     "text": [
      "Accuracy: 0.9269662921348315\n"
     ]
    }
   ],
   "source": [
    "Accuracy = metrics.accuracy_score(testOutput, predictedOutput)\n",
    "print(\"Accuracy: \" + str(Accuracy))"
   ]
  },
  {
   "cell_type": "code",
   "execution_count": 45,
   "metadata": {},
   "outputs": [],
   "source": [
    "trainInput, testInput, trainOutput, testOutput = train_test_split(inputRegressionData, outputRegressionData, test_size=0.1)\n",
    "testOutput = [i[0] for i in testOutput]\n",
    "\n",
    "class PredictRedditPost(nn.Module):\n",
    "    def __init__(self):\n",
    "        super(PredictRedditPost, self).__init__()\n",
    "        self.linearClassifier = nn.Sequential(nn.Linear(352, 64), nn.Dropout(0.5), nn.ReLU(),\n",
    "                                              nn.Linear(64, 16), nn.ReLU(),\n",
    "                                              nn.Linear(16, 1))\n",
    "    def forward(self, featureVector):\n",
    "        return self.linearClassifier(featureVector)"
   ]
  },
  {
   "cell_type": "code",
   "execution_count": 46,
   "metadata": {},
   "outputs": [
    {
     "name": "stdout",
     "output_type": "stream",
     "text": [
      "Epoch 1 Loss: 0.5123373092147997\n",
      "Epoch 1 MSE: 0.596170786516854\n",
      "\n",
      "Epoch 2 Loss: 0.3451129367362768\n",
      "Epoch 2 MSE: 0.596170786516854\n",
      "\n",
      "Epoch 3 Loss: 0.26284000221175674\n",
      "Epoch 3 MSE: 0.596170786516854\n",
      "\n",
      "Epoch 4 Loss: 0.20288399414721184\n",
      "Epoch 4 MSE: 0.596170786516854\n",
      "\n",
      "Epoch 5 Loss: 0.1877621314102463\n",
      "Epoch 5 MSE: 0.596170786516854\n",
      "\n",
      "Epoch 6 Loss: 0.17483528146599556\n",
      "Epoch 6 MSE: 0.596170786516854\n",
      "\n",
      "Epoch 7 Loss: 0.16882728399103628\n",
      "Epoch 7 MSE: 0.596170786516854\n",
      "\n",
      "Epoch 8 Loss: 0.15505214250693347\n",
      "Epoch 8 MSE: 0.596170786516854\n",
      "\n",
      "Epoch 9 Loss: 0.15876189987001646\n",
      "Epoch 9 MSE: 0.596170786516854\n",
      "\n",
      "Epoch 10 Loss: 0.15684028919784956\n",
      "Epoch 10 MSE: 0.596170786516854\n",
      "\n"
     ]
    }
   ],
   "source": [
    "LR = 1e-3\n",
    "WEIGHTDECAY=0.0005\n",
    "EPOCH = 10\n",
    "\n",
    "device = torch.device(\"cuda:0\" if torch.cuda.is_available() else \"cpu\")\n",
    "model = PredictRedditPost()\n",
    "model.to(device)\n",
    "optimizer = optim.Adam(model.parameters(), lr=LR, weight_decay=WEIGHTDECAY)\n",
    "MSE = nn.MSELoss()\n",
    "\n",
    "TestingMSE = []\n",
    "TrainingLoss = []\n",
    "for STEP in range(1, EPOCH + 1):\n",
    "    epochLoss = 0\n",
    "    model.train()\n",
    "    for batchCount, data in enumerate(zip(trainInput, trainOutput)):\n",
    "        handCraftedFeatures, ratio = data\n",
    "\n",
    "        handCraftedFeatures = torch.tensor(handCraftedFeatures)\n",
    "        ratio = torch.tensor(ratio)\n",
    "\n",
    "        handCraftedFeatures = handCraftedFeatures.to(device)\n",
    "        ratio = ratio.to(device)\n",
    "\n",
    "        predictedRatio = model(handCraftedFeatures)\n",
    "\n",
    "        optimizer.zero_grad()\n",
    "        Loss = 10 * MSE(predictedRatio, ratio)\n",
    "        epochLoss = epochLoss + Loss.item()\n",
    "\n",
    "        Loss.backward()\n",
    "        optimizer.step()\n",
    "\n",
    "    print(\"Epoch \" + str(STEP) +\" Loss: \" + str(epochLoss / batchCount))\n",
    "    TrainingLoss.append(epochLoss / batchCount)\n",
    "    \n",
    "    model.eval()\n",
    "    testInput = torch.tensor(testInput)\n",
    "    testInput = testInput.to(device)\n",
    "    predictedRatio = model(testInput)\n",
    "\n",
    "    predictedRatio = [int(i[0]) for i in predictedRatio.tolist()]\n",
    "    MSError = metrics.mean_squared_error(testOutput, predictedRatio)\n",
    "    print(\"Epoch \" + str(STEP) + \" MSE: \" + str(MSError) + \"\\n\")\n",
    "    TestingMSE.append(MSError)"
   ]
  },
  {
   "cell_type": "code",
   "execution_count": 47,
   "metadata": {},
   "outputs": [
    {
     "data": {
      "image/png": "[encoded data removed]",
      "text/plain": [
       "<Figure size 432x288 with 1 Axes>"
      ]
     },
     "metadata": {
      "needs_background": "light"
     },
     "output_type": "display_data"
    },
    {
     "data": {
      "image/png": "[encoded data removed]",
      "text/plain": [
       "<Figure size 432x288 with 1 Axes>"
      ]
     },
     "metadata": {
      "needs_background": "light"
     },
     "output_type": "display_data"
    },
    {
     "data": {
      "text/plain": [
       "<Figure size 432x288 with 0 Axes>"
      ]
     },
     "metadata": {},
     "output_type": "display_data"
    }
   ],
   "source": [
    "sns.lineplot(x=np.array([x for x in range(EPOCH)]), y=np.array(TrainingLoss))\n",
    "plt.title(\"Loss Per Epoch\")\n",
    "plt.xlabel(\"Epoch #\")\n",
    "plt.ylabel(\"Loss\")\n",
    "plt.show()\n",
    "plt.clf()\n",
    "\n",
    "sns.lineplot(x=np.array([x for x in range(EPOCH)]), y=np.array(TestingMSE))\n",
    "plt.title(\"MSE Per Epoch\")\n",
    "plt.xlabel(\"Epoch #\")\n",
    "plt.ylabel(\"MSE\")\n",
    "plt.show()\n",
    "plt.clf()"
   ]
  },
  {
   "cell_type": "code",
   "execution_count": 48,
   "metadata": {},
   "outputs": [
    {
     "data": {
      "text/html": [
       "<div>\n",
       "<style scoped>\n",
       "    .dataframe tbody tr th:only-of-type {\n",
       "        vertical-align: middle;\n",
       "    }\n",
       "\n",
       "    .dataframe tbody tr th {\n",
       "        vertical-align: top;\n",
       "    }\n",
       "\n",
       "    .dataframe thead th {\n",
       "        text-align: right;\n",
       "    }\n",
       "</style>\n",
       "<table border=\"1\" class=\"dataframe\">\n",
       "  <thead>\n",
       "    <tr style=\"text-align: right;\">\n",
       "      <th></th>\n",
       "      <th>Example</th>\n",
       "      <th>True Ratio</th>\n",
       "      <th>Predicted Ratio</th>\n",
       "    </tr>\n",
       "  </thead>\n",
       "  <tbody>\n",
       "    <tr>\n",
       "      <th>0</th>\n",
       "      <td>0</td>\n",
       "      <td>0.48</td>\n",
       "      <td>0</td>\n",
       "    </tr>\n",
       "    <tr>\n",
       "      <th>1</th>\n",
       "      <td>1</td>\n",
       "      <td>0.96</td>\n",
       "      <td>0</td>\n",
       "    </tr>\n",
       "    <tr>\n",
       "      <th>2</th>\n",
       "      <td>2</td>\n",
       "      <td>0.90</td>\n",
       "      <td>0</td>\n",
       "    </tr>\n",
       "    <tr>\n",
       "      <th>3</th>\n",
       "      <td>3</td>\n",
       "      <td>0.52</td>\n",
       "      <td>0</td>\n",
       "    </tr>\n",
       "    <tr>\n",
       "      <th>4</th>\n",
       "      <td>4</td>\n",
       "      <td>0.95</td>\n",
       "      <td>0</td>\n",
       "    </tr>\n",
       "  </tbody>\n",
       "</table>\n",
       "</div>"
      ],
      "text/plain": [
       "   Example  True Ratio  Predicted Ratio\n",
       "0        0        0.48                0\n",
       "1        1        0.96                0\n",
       "2        2        0.90                0\n",
       "3        3        0.52                0\n",
       "4        4        0.95                0"
      ]
     },
     "execution_count": 48,
     "metadata": {},
     "output_type": "execute_result"
    }
   ],
   "source": [
    "modelPerformance = []\n",
    "\n",
    "for i, output in enumerate(zip(testOutput, predictedRatio)):\n",
    "    target, prediction = output\n",
    "    modelPerformance.append({\"Example\" : i, \"True Ratio\" : target , \"Predicted Ratio\" : prediction})\n",
    "    \n",
    "modelPerformance = pd.DataFrame(modelPerformance)\n",
    "modelPerformance.head()"
   ]
  },
  {
   "cell_type": "code",
   "execution_count": 22,
   "metadata": {},
   "outputs": [],
   "source": [
    "trainInput, testInput, trainOutput, testOutput = train_test_split(inputClassificationData, outputClassificationData, test_size=0.1)\n",
    "testOutput = [i[0] for i in testOutput]\n",
    "\n",
    "class PredictRedditPost(nn.Module):\n",
    "    def __init__(self):\n",
    "        super(PredictRedditPost, self).__init__()\n",
    "        self.linearClassifier = nn.Sequential(nn.Linear(352, 64), nn.Dropout(0.5), nn.ReLU(),\n",
    "                                              nn.Linear(64, 16), nn.ReLU(),\n",
    "                                              nn.Linear(16, 1))\n",
    "        self.sigmoid = nn.Sigmoid()\n",
    "    def forward(self, featureVector):\n",
    "        return self.sigmoid(self.linearClassifier(featureVector))"
   ]
  },
  {
   "cell_type": "code",
   "execution_count": 23,
   "metadata": {},
   "outputs": [
    {
     "name": "stdout",
     "output_type": "stream",
     "text": [
      "Epoch 1 Loss: 0.7069111705428917\n",
      "Epoch 1Accuracy: 0.6797752808988764\n",
      "\n",
      "Epoch 2 Loss: 0.6067645564089366\n",
      "Epoch 2Accuracy: 0.6797752808988764\n",
      "\n",
      "Epoch 3 Loss: 0.5543294027408772\n",
      "Epoch 3Accuracy: 0.7359550561797753\n",
      "\n",
      "Epoch 4 Loss: 0.48989452393715394\n",
      "Epoch 4Accuracy: 0.7640449438202247\n",
      "\n",
      "Epoch 5 Loss: 0.4100091924295452\n",
      "Epoch 5Accuracy: 0.8426966292134831\n",
      "\n",
      "Epoch 6 Loss: 0.41533701651001825\n",
      "Epoch 6Accuracy: 0.8033707865168539\n",
      "\n",
      "Epoch 7 Loss: 0.3871994945842338\n",
      "Epoch 7Accuracy: 0.9213483146067416\n",
      "\n",
      "Epoch 8 Loss: 0.36606456267170145\n",
      "Epoch 8Accuracy: 0.9438202247191011\n",
      "\n",
      "Epoch 9 Loss: 0.3757897629421671\n",
      "Epoch 9Accuracy: 0.9325842696629213\n",
      "\n",
      "Epoch 10 Loss: 0.445769505257246\n",
      "Epoch 10Accuracy: 0.8258426966292135\n",
      "\n"
     ]
    }
   ],
   "source": [
    "LR = 1e-3\n",
    "WEIGHTDECAY=0.0005\n",
    "EPOCH = 10\n",
    "\n",
    "device = torch.device(\"cuda:0\" if torch.cuda.is_available() else \"cpu\")\n",
    "model = PredictRedditPost()\n",
    "model.to(device)\n",
    "optimizer = optim.Adam(model.parameters(), lr=LR, weight_decay=WEIGHTDECAY)\n",
    "BCEL = nn.BCELoss()\n",
    "\n",
    "TestingAccuracy = []\n",
    "TrainingLoss = []\n",
    "for STEP in range(1, EPOCH + 1):\n",
    "    epochLoss = 0\n",
    "    model.train()\n",
    "    \n",
    "    for batchCount, data in enumerate(zip(trainInput, trainOutput)):\n",
    "        handCraftedFeatures, postType = data\n",
    "\n",
    "        handCraftedFeatures = torch.tensor(handCraftedFeatures)\n",
    "        postType = torch.tensor(postType)\n",
    "\n",
    "        handCraftedFeatures = handCraftedFeatures.to(device)\n",
    "        postType = postType.to(device)\n",
    "\n",
    "        predictedPostType = model(handCraftedFeatures)\n",
    "\n",
    "        optimizer.zero_grad()\n",
    "        Loss = BCEL(predictedPostType, postType)\n",
    "        epochLoss = epochLoss + Loss.item()\n",
    "\n",
    "        Loss.backward()\n",
    "        optimizer.step()\n",
    "\n",
    "    print(\"Epoch \" + str(STEP) + \" Loss: \" + str(epochLoss / batchCount))\n",
    "    TrainingLoss.append(epochLoss / batchCount)\n",
    "    \n",
    "    model.eval()\n",
    "    testInput = torch.tensor(testInput)\n",
    "    testInput = testInput.to(device)\n",
    "    predictedPostType = torch.round(model(testInput))\n",
    "\n",
    "    predictedPostType = [int(i[0]) for i in predictedPostType.tolist()]\n",
    "    Accuracy = metrics.accuracy_score(testOutput, predictedPostType)\n",
    "    print(\"Epoch \"+ str(STEP) + \" Accuracy: \" + str(Accuracy) + \"\\n\")\n",
    "    TestingAccuracy.append(Accuracy)"
   ]
  },
  {
   "cell_type": "code",
   "execution_count": 24,
   "metadata": {},
   "outputs": [
    {
     "data": {
      "image/png": "[encoded data removed]",
      "text/plain": [
       "<Figure size 432x288 with 1 Axes>"
      ]
     },
     "metadata": {
      "needs_background": "light"
     },
     "output_type": "display_data"
    },
    {
     "data": {
      "image/png": "[encoded data removed]",
      "text/plain": [
       "<Figure size 432x288 with 1 Axes>"
      ]
     },
     "metadata": {
      "needs_background": "light"
     },
     "output_type": "display_data"
    },
    {
     "data": {
      "text/plain": [
       "<Figure size 432x288 with 0 Axes>"
      ]
     },
     "metadata": {},
     "output_type": "display_data"
    }
   ],
   "source": [
    "sns.lineplot(x=np.array([x for x in range(EPOCH)]), y=np.array(TrainingLoss))\n",
    "plt.title(\"Loss Per Epoch\")\n",
    "plt.xlabel(\"Epoch #\")\n",
    "plt.ylabel(\"Loss\")\n",
    "plt.show()\n",
    "plt.clf()\n",
    "\n",
    "sns.lineplot(x=np.array([x for x in range(EPOCH)]), y=np.array(TestingAccuracy))\n",
    "plt.title(\"Accuracy Per Epoch\")\n",
    "plt.xlabel(\"Epoch #\")\n",
    "plt.ylabel(\"Accuracy\")\n",
    "plt.show()\n",
    "plt.clf()"
   ]
  },
  {
   "cell_type": "code",
   "execution_count": null,
   "metadata": {},
   "outputs": [],
   "source": []
  }
 ],
 "metadata": {
  "kernelspec": {
   "display_name": "Python 3",
   "language": "python",
   "name": "python3"
  },
  "language_info": {
   "codemirror_mode": {
    "name": "ipython",
    "version": 3
   },
   "file_extension": ".py",
   "mimetype": "text/x-python",
   "name": "python",
   "nbconvert_exporter": "python",
   "pygments_lexer": "ipython3",
   "version": "3.7.3"
  }
 },
 "nbformat": 4,
 "nbformat_minor": 2
}
